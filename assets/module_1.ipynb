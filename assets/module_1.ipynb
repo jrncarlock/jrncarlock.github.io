{
 "cells": [
  {
   "cell_type": "markdown",
   "id": "10adb9ef",
   "metadata": {},
   "source": [
    "# Introduction to Python\n",
    "\n",
    "* [Python](https://en.wikipedia.org/wiki/Python_(programming_language)) is a **high-level, general-purpose programming language.** \n",
    "* Its design philosophy emphasizes **code readability** (with the use of significant *indentation*).\n",
    "* Designed by [Guido van Rossum](https://en.wikipedia.org/wiki/Guido_van_Rossum) in the 80's."
   ]
  },
  {
   "cell_type": "markdown",
   "id": "9d1695ba",
   "metadata": {},
   "source": [
    "## 1. Basics"
   ]
  },
  {
   "cell_type": "markdown",
   "id": "d8bac07a",
   "metadata": {},
   "source": [
    "Python as a calculator"
   ]
  },
  {
   "cell_type": "code",
   "execution_count": null,
   "id": "8ce4fd72",
   "metadata": {},
   "outputs": [],
   "source": []
  },
  {
   "cell_type": "markdown",
   "id": "8b2825c8",
   "metadata": {},
   "source": [
    "## 2. Lists"
   ]
  },
  {
   "cell_type": "code",
   "execution_count": null,
   "id": "e68a813b",
   "metadata": {},
   "outputs": [],
   "source": []
  },
  {
   "cell_type": "markdown",
   "id": "7df052fc",
   "metadata": {},
   "source": [
    "## 3. Functions and Packages"
   ]
  },
  {
   "cell_type": "code",
   "execution_count": null,
   "id": "2369fced",
   "metadata": {},
   "outputs": [],
   "source": []
  },
  {
   "cell_type": "markdown",
   "id": "ef7fbbf5",
   "metadata": {},
   "source": [
    "## 4. Numpy"
   ]
  },
  {
   "cell_type": "code",
   "execution_count": null,
   "id": "b4212dcc",
   "metadata": {},
   "outputs": [],
   "source": []
  }
 ],
 "metadata": {
  "kernelspec": {
   "display_name": "Python 3 (ipykernel)",
   "language": "python",
   "name": "python3"
  },
  "language_info": {
   "codemirror_mode": {
    "name": "ipython",
    "version": 3
   },
   "file_extension": ".py",
   "mimetype": "text/x-python",
   "name": "python",
   "nbconvert_exporter": "python",
   "pygments_lexer": "ipython3",
   "version": "3.9.7"
  }
 },
 "nbformat": 4,
 "nbformat_minor": 5
}
